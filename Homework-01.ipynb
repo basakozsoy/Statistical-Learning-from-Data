{
 "cells": [
  {
   "cell_type": "code",
   "execution_count": 4,
   "metadata": {},
   "outputs": [
    {
     "data": {
      "text/html": [
       "        <script type=\"text/javascript\">\n",
       "        window.PlotlyConfig = {MathJaxConfig: 'local'};\n",
       "        if (window.MathJax) {MathJax.Hub.Config({SVG: {font: \"STIX-Web\"}});}\n",
       "        if (typeof require !== 'undefined') {\n",
       "        require.undef(\"plotly\");\n",
       "        requirejs.config({\n",
       "            paths: {\n",
       "                'plotly': ['https://cdn.plot.ly/plotly-latest.min']\n",
       "            }\n",
       "        });\n",
       "        require(['plotly'], function(Plotly) {\n",
       "            window._Plotly = Plotly;\n",
       "        });\n",
       "        }\n",
       "        </script>\n",
       "        "
      ]
     },
     "metadata": {},
     "output_type": "display_data"
    },
    {
     "data": {
      "text/html": [
       "        <script type=\"text/javascript\">\n",
       "        window.PlotlyConfig = {MathJaxConfig: 'local'};\n",
       "        if (window.MathJax) {MathJax.Hub.Config({SVG: {font: \"STIX-Web\"}});}\n",
       "        if (typeof require !== 'undefined') {\n",
       "        require.undef(\"plotly\");\n",
       "        requirejs.config({\n",
       "            paths: {\n",
       "                'plotly': ['https://cdn.plot.ly/plotly-latest.min']\n",
       "            }\n",
       "        });\n",
       "        require(['plotly'], function(Plotly) {\n",
       "            window._Plotly = Plotly;\n",
       "        });\n",
       "        }\n",
       "        </script>\n",
       "        "
      ]
     },
     "metadata": {},
     "output_type": "display_data"
    },
    {
     "data": {
      "text/plain": [
       "'interest_graph.html'"
      ]
     },
     "execution_count": 4,
     "metadata": {},
     "output_type": "execute_result"
    }
   ],
   "source": [
    "from pytrends.request import TrendReq\n",
    "from plotly.offline import download_plotlyjs, init_notebook_mode, plot, iplot\n",
    "import pandas as pd\n",
    "import cufflinks as cf\n",
    "import matplotlib.pyplot as plt\n",
    "import plotly\n",
    "import plotly.offline as py\n",
    "import plotly.express as px\n",
    "\n",
    "#Initialization settings\n",
    "init_notebook_mode(connected=True)\n",
    "cf.go_offline()\n",
    "cf.set_config_file(offline=False, world_readable=True)\n",
    "pytrends = TrendReq(hl = 'en-US', tz = 360)\n",
    "\n",
    "#Range from 2015 to 2020, collecting monthly data\n",
    "timeframe = '2015-01-01 2020-10-01'\n",
    "\n",
    "#Split list into two parts, otherwise Google doesn't like it (ResponseError code 400), then merge them together\n",
    "kw_list1 = [\"data science Python\", \"data science R\", \"data science Java\", \"data science Julia\", \"data science SQL\"]\n",
    "pytrends.build_payload(kw_list1, cat=0, timeframe = timeframe, geo='', gprop='')\n",
    "dataframe1 = pytrends.interest_over_time()\n",
    "\n",
    "kw_list2 = [\"data science C\", \"data science MATLAB\", \"data science Scala\", \"data science Swift\"]\n",
    "pytrends.build_payload(kw_list2, cat=0, timeframe = timeframe, geo='', gprop='')\n",
    "dataframe2 = pytrends.interest_over_time()\n",
    "\n",
    "#Add dataframes together\n",
    "dfmain = dataframe1.add(dataframe2, fill_value = 0)\n",
    "\n",
    "#Drop isPartial column as it is unnecessary \n",
    "dfmain.drop(['isPartial'], axis = 'columns', inplace = True)\n",
    "\n",
    "#Changing column names\n",
    "dfmain.rename(columns={\"data science Python\":\"Python\", \"data science C\":\"C\", \"data science MATLAB\":\"MATLAB\", \"data science Scala\":\"Scala\", \"data science Swift\":\"Swift\",\"data science R\":\"R\", \"data science Java\":\"Java\", \"data science Julia\":\"Julia\", \"data science SQL\":\"SQL\"}, inplace=True)\n",
    "\n",
    "fig = dfmain.iplot(asFigure = True, kind = 'line', xTitle = 'Dates', yTitle = 'Interests', title='Interest Over Time')\n",
    "\n",
    "#Manipulating the x-axis\n",
    "fig.update_xaxes(rangeslider_visible=True,rangeselector=dict(buttons=list([dict(count=1, label=\"1m\", step=\"month\", stepmode=\"backward\"),dict(count=6, label=\"6m\", step=\"month\", stepmode=\"backward\"),dict(count=1, label=\"YTD\", step=\"year\", stepmode=\"todate\"),dict(count=1, label=\"1y\", step=\"year\", stepmode=\"backward\"),dict(step=\"all\")])))\n",
    "\n",
    "#Getting the graph as HTML\n",
    "plotly.offline.plot(fig, filename='interest_graph.html')\n",
    "\n"
   ]
  },
  {
   "cell_type": "code",
   "execution_count": null,
   "metadata": {},
   "outputs": [],
   "source": []
  }
 ],
 "metadata": {
  "kernelspec": {
   "display_name": "Python 3",
   "language": "python",
   "name": "python3"
  },
  "language_info": {
   "codemirror_mode": {
    "name": "ipython",
    "version": 3
   },
   "file_extension": ".py",
   "mimetype": "text/x-python",
   "name": "python",
   "nbconvert_exporter": "python",
   "pygments_lexer": "ipython3",
   "version": "3.7.9"
  }
 },
 "nbformat": 4,
 "nbformat_minor": 4
}
